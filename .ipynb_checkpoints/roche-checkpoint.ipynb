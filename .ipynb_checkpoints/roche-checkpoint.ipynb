{
 "cells": [
  {
   "cell_type": "markdown",
   "metadata": {},
   "source": [
    "# Create clean array from file"
   ]
  },
  {
   "cell_type": "code",
   "execution_count": 1,
   "metadata": {
    "collapsed": false
   },
   "outputs": [
    {
     "name": "stdout",
     "output_type": "stream",
     "text": [
      "Number of planets: 23\n"
     ]
    }
   ],
   "source": [
    "%matplotlib inline\n",
    "import numpy as np\n",
    "import pylab as p\n",
    "\n",
    "MJtoMsun = 0.000954265748\n",
    "RJtoAU = 0.000477894503\n",
    "\n",
    "def has_numbers(inputString):\n",
    "    '''Checks if inputString contains any numerical value'''\n",
    "    return any(char.isdigit() for char in inputString)\n",
    "\n",
    "def convert(inputList):\n",
    "    '''Attempts to convert elements of list to floats. If not, keep as string.'''\n",
    "    outputList = []\n",
    "    for x in inputList:\n",
    "        try:\n",
    "            x = float(x)\n",
    "        except ValueError:\n",
    "            x = np.nan\n",
    "        outputList.append(x)\n",
    "    return outputList\n",
    "\n",
    "def clean_array(array):\n",
    "    '''Cleans the array from a file generated from exoplanets.org into a more readable format'''\n",
    "    tmp = [ i for i in array if has_numbers(i) ]\n",
    "    tmp = np.transpose( [ [x for x in i.split(',')] for i in tmp] )\n",
    "    return [ np.array(convert(x)) for x in tmp ]\n",
    "\n",
    "def create_array_from_file(file):\n",
    "    '''Creates a cleaned array from input file'''\n",
    "    with open(file) as f:\n",
    "        array = f.read().splitlines()    \n",
    "    return clean_array(array)\n",
    "\n",
    "file_05 = 'planets_2005.in'\n",
    "data_05 = create_array_from_file(file_05)\n",
    "print(\"Number of planets:\", len(data_05[0]))"
   ]
  },
  {
   "cell_type": "code",
   "execution_count": 2,
   "metadata": {
    "collapsed": false
   },
   "outputs": [
    {
     "name": "stdout",
     "output_type": "stream",
     "text": [
      "Number of planets: 23\n",
      "[  1.98121039   8.96181964   2.34745718   2.2335696   11.24154155\n",
      "   2.76823131   3.13827158   2.36412532   9.08216907   2.69539832\n",
      "   2.25298838   2.76781018   3.17594377   2.99309386   7.65281113\n",
      "   3.18510834   6.42980296   2.76046825   3.57026218  16.4517982\n",
      "  15.52076534   5.54055343  16.02714509]\n"
     ]
    }
   ],
   "source": [
    "data_05[25] = np.array([ 1.2 for i in range(len(data_05[25])) ])\n",
    "\n",
    "keys = [ \"names\",\n",
    "        \"Mpl\", \"Mpl_upper\", \"Mpl_lower\", \"Mpl_sigma\",\\\n",
    "        \"Mstar\", \"Mstar_upper\", \"Mstar_lower\", \"Mstar_sigma\", \\\n",
    "        \"sma\", \"sma_upper\", \"sma_lower\", \"sma_sigma\", \\\n",
    "        \"per\", \"per_upper\", \"per_lower\", \"per_sigma\", \\\n",
    "        \"ecc\", \"ecc_upper\", \"ecc_lower\", \"ecc_sigma\", \\\n",
    "        \"amp\", \"amp_upper\", \"amp_lower\", \"amp_sigma\", \\\n",
    "        \"rad\", \"rad_upper\", \"rad_lower\", \"rad_sigma\" ]\n",
    "data_dict_05 = dict(zip(keys, data_05))\n",
    "\n",
    "a_roche = data_dict[\"rad\"] * RJtoAU / ( 0.462 * (data_dict[\"Mpl\"] * MJtoMsun / data_dict[\"Mstar\"])**0.3333 )\n",
    "xlist = data_dict_05[\"sma\"] / a_roche\n",
    "xlist = xlist[~np.isnan(xlist)]\n",
    "print(\"Number of planets:\", len(xlist))\n",
    "print(xlist)"
   ]
  },
  {
   "cell_type": "markdown",
   "metadata": {},
   "source": [
    "# Define likelihood, prior, posterior"
   ]
  },
  {
   "cell_type": "code",
   "execution_count": 3,
   "metadata": {
    "collapsed": false
   },
   "outputs": [],
   "source": [
    "def lnlike(theta):\n",
    "    '''Function to compute truncated power law likelihood. Theta is a tuple consisting of gamma, xlower, xupper.'''\n",
    "    gamma, xl, xu = theta\n",
    "    assert xl < xu\n",
    "    n = len(xlist)\n",
    "    return n * (np.log(gamma / (xu**gamma - xl**gamma))) \\\n",
    "            + sum([ (gamma-1.)*np.log(x) if xl < x < xu else -np.inf for x in xlist ])\n",
    "\n",
    "\n",
    "def lnprior(theta):\n",
    "    gamma, xl, xu = theta\n",
    "    if -5. < gamma < 5. and 0. < xl < 5. and 15. < xu < 100.:\n",
    "        return 0.\n",
    "    return -np.inf\n",
    "    \n",
    "\n",
    "def lnpost(theta):\n",
    "    lp = lnprior(theta)\n",
    "    if not np.isfinite(lp):\n",
    "        return -np.inf\n",
    "    return lp + lnlike(theta)"
   ]
  },
  {
   "cell_type": "markdown",
   "metadata": {},
   "source": [
    "# Do MCMC"
   ]
  },
  {
   "cell_type": "code",
   "execution_count": 4,
   "metadata": {
    "collapsed": true
   },
   "outputs": [],
   "source": [
    "import emcee"
   ]
  },
  {
   "cell_type": "code",
   "execution_count": 5,
   "metadata": {
    "collapsed": false,
    "scrolled": false
   },
   "outputs": [
    {
     "name": "stdout",
     "output_type": "stream",
     "text": [
      "emcee: Exception while calling your likelihood function:\n",
      "  params: [ -9.55201915e-04   1.78361177e+00   1.80955420e+01]\n",
      "  args: []\n",
      "  kwargs: {}\n",
      "  exception:\n"
     ]
    },
    {
     "name": "stderr",
     "output_type": "stream",
     "text": [
      "Traceback (most recent call last):\n",
      "  File \"C:\\Anaconda\\lib\\site-packages\\emcee\\ensemble.py\", line 505, in __call__\n",
      "    return self.f(x, *self.args, **self.kwargs)\n",
      "  File \"<ipython-input-3-3bca8e9dbdf6>\", line 20, in lnpost\n",
      "    return lp + lnlike(theta)\n",
      "  File \"<ipython-input-3-3bca8e9dbdf6>\", line 5, in lnlike\n",
      "    n = len(xlist)\n",
      "NameError: name 'xlist' is not defined\n"
     ]
    },
    {
     "ename": "NameError",
     "evalue": "name 'xlist' is not defined",
     "output_type": "error",
     "traceback": [
      "\u001b[1;31m---------------------------------------------------------------------------\u001b[0m",
      "\u001b[1;31mNameError\u001b[0m                                 Traceback (most recent call last)",
      "\u001b[1;32m<ipython-input-5-530799f793ab>\u001b[0m in \u001b[0;36m<module>\u001b[1;34m()\u001b[0m\n\u001b[0;32m      3\u001b[0m \u001b[1;33m\u001b[0m\u001b[0m\n\u001b[0;32m      4\u001b[0m \u001b[0msampler_05\u001b[0m \u001b[1;33m=\u001b[0m \u001b[0memcee\u001b[0m\u001b[1;33m.\u001b[0m\u001b[0mEnsembleSampler\u001b[0m\u001b[1;33m(\u001b[0m\u001b[0mnwalkers\u001b[0m\u001b[1;33m,\u001b[0m \u001b[0mndim\u001b[0m\u001b[1;33m,\u001b[0m \u001b[0mlnpost\u001b[0m\u001b[1;33m)\u001b[0m\u001b[1;33m\u001b[0m\u001b[0m\n\u001b[1;32m----> 5\u001b[1;33m \u001b[0msampler_05\u001b[0m\u001b[1;33m.\u001b[0m\u001b[0mrun_mcmc\u001b[0m\u001b[1;33m(\u001b[0m\u001b[0mpos\u001b[0m\u001b[1;33m,\u001b[0m \u001b[1;36m5000\u001b[0m\u001b[1;33m)\u001b[0m\u001b[1;33m;\u001b[0m\u001b[1;33m\u001b[0m\u001b[0m\n\u001b[0m",
      "\u001b[1;32mC:\\Anaconda\\lib\\site-packages\\emcee\\sampler.py\u001b[0m in \u001b[0;36mrun_mcmc\u001b[1;34m(self, pos0, N, rstate0, lnprob0, **kwargs)\u001b[0m\n\u001b[0;32m    155\u001b[0m         \"\"\"\n\u001b[0;32m    156\u001b[0m         for results in self.sample(pos0, lnprob0, rstate0, iterations=N,\n\u001b[1;32m--> 157\u001b[1;33m                                    **kwargs):\n\u001b[0m\u001b[0;32m    158\u001b[0m             \u001b[1;32mpass\u001b[0m\u001b[1;33m\u001b[0m\u001b[0m\n\u001b[0;32m    159\u001b[0m         \u001b[1;32mreturn\u001b[0m \u001b[0mresults\u001b[0m\u001b[1;33m\u001b[0m\u001b[0m\n",
      "\u001b[1;32mC:\\Anaconda\\lib\\site-packages\\emcee\\ensemble.py\u001b[0m in \u001b[0;36msample\u001b[1;34m(self, p0, lnprob0, rstate0, blobs0, iterations, thin, storechain, mh_proposal)\u001b[0m\n\u001b[0;32m    196\u001b[0m         \u001b[0mblobs\u001b[0m \u001b[1;33m=\u001b[0m \u001b[0mblobs0\u001b[0m\u001b[1;33m\u001b[0m\u001b[0m\n\u001b[0;32m    197\u001b[0m         \u001b[1;32mif\u001b[0m \u001b[0mlnprob\u001b[0m \u001b[1;32mis\u001b[0m \u001b[1;32mNone\u001b[0m\u001b[1;33m:\u001b[0m\u001b[1;33m\u001b[0m\u001b[0m\n\u001b[1;32m--> 198\u001b[1;33m             \u001b[0mlnprob\u001b[0m\u001b[1;33m,\u001b[0m \u001b[0mblobs\u001b[0m \u001b[1;33m=\u001b[0m \u001b[0mself\u001b[0m\u001b[1;33m.\u001b[0m\u001b[0m_get_lnprob\u001b[0m\u001b[1;33m(\u001b[0m\u001b[0mp\u001b[0m\u001b[1;33m)\u001b[0m\u001b[1;33m\u001b[0m\u001b[0m\n\u001b[0m\u001b[0;32m    199\u001b[0m \u001b[1;33m\u001b[0m\u001b[0m\n\u001b[0;32m    200\u001b[0m         \u001b[1;31m# Check to make sure that the probability function didn't return\u001b[0m\u001b[1;33m\u001b[0m\u001b[1;33m\u001b[0m\u001b[0m\n",
      "\u001b[1;32mC:\\Anaconda\\lib\\site-packages\\emcee\\ensemble.py\u001b[0m in \u001b[0;36m_get_lnprob\u001b[1;34m(self, pos)\u001b[0m\n\u001b[0;32m    380\u001b[0m \u001b[1;33m\u001b[0m\u001b[0m\n\u001b[0;32m    381\u001b[0m         \u001b[1;31m# Run the log-probability calculations (optionally in parallel).\u001b[0m\u001b[1;33m\u001b[0m\u001b[1;33m\u001b[0m\u001b[0m\n\u001b[1;32m--> 382\u001b[1;33m         \u001b[0mresults\u001b[0m \u001b[1;33m=\u001b[0m \u001b[0mlist\u001b[0m\u001b[1;33m(\u001b[0m\u001b[0mM\u001b[0m\u001b[1;33m(\u001b[0m\u001b[0mself\u001b[0m\u001b[1;33m.\u001b[0m\u001b[0mlnprobfn\u001b[0m\u001b[1;33m,\u001b[0m \u001b[1;33m[\u001b[0m\u001b[0mp\u001b[0m\u001b[1;33m[\u001b[0m\u001b[0mi\u001b[0m\u001b[1;33m]\u001b[0m \u001b[1;32mfor\u001b[0m \u001b[0mi\u001b[0m \u001b[1;32min\u001b[0m \u001b[0mrange\u001b[0m\u001b[1;33m(\u001b[0m\u001b[0mlen\u001b[0m\u001b[1;33m(\u001b[0m\u001b[0mp\u001b[0m\u001b[1;33m)\u001b[0m\u001b[1;33m)\u001b[0m\u001b[1;33m]\u001b[0m\u001b[1;33m)\u001b[0m\u001b[1;33m)\u001b[0m\u001b[1;33m\u001b[0m\u001b[0m\n\u001b[0m\u001b[0;32m    383\u001b[0m \u001b[1;33m\u001b[0m\u001b[0m\n\u001b[0;32m    384\u001b[0m         \u001b[1;32mtry\u001b[0m\u001b[1;33m:\u001b[0m\u001b[1;33m\u001b[0m\u001b[0m\n",
      "\u001b[1;32mC:\\Anaconda\\lib\\site-packages\\emcee\\ensemble.py\u001b[0m in \u001b[0;36m__call__\u001b[1;34m(self, x)\u001b[0m\n\u001b[0;32m    503\u001b[0m     \u001b[1;32mdef\u001b[0m \u001b[0m__call__\u001b[0m\u001b[1;33m(\u001b[0m\u001b[0mself\u001b[0m\u001b[1;33m,\u001b[0m \u001b[0mx\u001b[0m\u001b[1;33m)\u001b[0m\u001b[1;33m:\u001b[0m\u001b[1;33m\u001b[0m\u001b[0m\n\u001b[0;32m    504\u001b[0m         \u001b[1;32mtry\u001b[0m\u001b[1;33m:\u001b[0m\u001b[1;33m\u001b[0m\u001b[0m\n\u001b[1;32m--> 505\u001b[1;33m             \u001b[1;32mreturn\u001b[0m \u001b[0mself\u001b[0m\u001b[1;33m.\u001b[0m\u001b[0mf\u001b[0m\u001b[1;33m(\u001b[0m\u001b[0mx\u001b[0m\u001b[1;33m,\u001b[0m \u001b[1;33m*\u001b[0m\u001b[0mself\u001b[0m\u001b[1;33m.\u001b[0m\u001b[0margs\u001b[0m\u001b[1;33m,\u001b[0m \u001b[1;33m**\u001b[0m\u001b[0mself\u001b[0m\u001b[1;33m.\u001b[0m\u001b[0mkwargs\u001b[0m\u001b[1;33m)\u001b[0m\u001b[1;33m\u001b[0m\u001b[0m\n\u001b[0m\u001b[0;32m    506\u001b[0m         \u001b[1;32mexcept\u001b[0m\u001b[1;33m:\u001b[0m\u001b[1;33m\u001b[0m\u001b[0m\n\u001b[0;32m    507\u001b[0m             \u001b[1;32mimport\u001b[0m \u001b[0mtraceback\u001b[0m\u001b[1;33m\u001b[0m\u001b[0m\n",
      "\u001b[1;32m<ipython-input-3-3bca8e9dbdf6>\u001b[0m in \u001b[0;36mlnpost\u001b[1;34m(theta)\u001b[0m\n\u001b[0;32m     18\u001b[0m     \u001b[1;32mif\u001b[0m \u001b[1;32mnot\u001b[0m \u001b[0mnp\u001b[0m\u001b[1;33m.\u001b[0m\u001b[0misfinite\u001b[0m\u001b[1;33m(\u001b[0m\u001b[0mlp\u001b[0m\u001b[1;33m)\u001b[0m\u001b[1;33m:\u001b[0m\u001b[1;33m\u001b[0m\u001b[0m\n\u001b[0;32m     19\u001b[0m         \u001b[1;32mreturn\u001b[0m \u001b[1;33m-\u001b[0m\u001b[0mnp\u001b[0m\u001b[1;33m.\u001b[0m\u001b[0minf\u001b[0m\u001b[1;33m\u001b[0m\u001b[0m\n\u001b[1;32m---> 20\u001b[1;33m     \u001b[1;32mreturn\u001b[0m \u001b[0mlp\u001b[0m \u001b[1;33m+\u001b[0m \u001b[0mlnlike\u001b[0m\u001b[1;33m(\u001b[0m\u001b[0mtheta\u001b[0m\u001b[1;33m)\u001b[0m\u001b[1;33m\u001b[0m\u001b[0m\n\u001b[0m",
      "\u001b[1;32m<ipython-input-3-3bca8e9dbdf6>\u001b[0m in \u001b[0;36mlnlike\u001b[1;34m(theta)\u001b[0m\n\u001b[0;32m      3\u001b[0m     \u001b[0mgamma\u001b[0m\u001b[1;33m,\u001b[0m \u001b[0mxl\u001b[0m\u001b[1;33m,\u001b[0m \u001b[0mxu\u001b[0m \u001b[1;33m=\u001b[0m \u001b[0mtheta\u001b[0m\u001b[1;33m\u001b[0m\u001b[0m\n\u001b[0;32m      4\u001b[0m     \u001b[1;32massert\u001b[0m \u001b[0mxl\u001b[0m \u001b[1;33m<\u001b[0m \u001b[0mxu\u001b[0m\u001b[1;33m\u001b[0m\u001b[0m\n\u001b[1;32m----> 5\u001b[1;33m     \u001b[0mn\u001b[0m \u001b[1;33m=\u001b[0m \u001b[0mlen\u001b[0m\u001b[1;33m(\u001b[0m\u001b[0mxlist\u001b[0m\u001b[1;33m)\u001b[0m\u001b[1;33m\u001b[0m\u001b[0m\n\u001b[0m\u001b[0;32m      6\u001b[0m     \u001b[1;32mreturn\u001b[0m \u001b[0mn\u001b[0m \u001b[1;33m*\u001b[0m \u001b[1;33m(\u001b[0m\u001b[0mnp\u001b[0m\u001b[1;33m.\u001b[0m\u001b[0mlog\u001b[0m\u001b[1;33m(\u001b[0m\u001b[0mgamma\u001b[0m \u001b[1;33m/\u001b[0m \u001b[1;33m(\u001b[0m\u001b[0mxu\u001b[0m\u001b[1;33m**\u001b[0m\u001b[0mgamma\u001b[0m \u001b[1;33m-\u001b[0m \u001b[0mxl\u001b[0m\u001b[1;33m**\u001b[0m\u001b[0mgamma\u001b[0m\u001b[1;33m)\u001b[0m\u001b[1;33m)\u001b[0m\u001b[1;33m)\u001b[0m             \u001b[1;33m+\u001b[0m \u001b[0msum\u001b[0m\u001b[1;33m(\u001b[0m\u001b[1;33m[\u001b[0m \u001b[1;33m(\u001b[0m\u001b[0mgamma\u001b[0m\u001b[1;33m-\u001b[0m\u001b[1;36m1.\u001b[0m\u001b[1;33m)\u001b[0m\u001b[1;33m*\u001b[0m\u001b[0mnp\u001b[0m\u001b[1;33m.\u001b[0m\u001b[0mlog\u001b[0m\u001b[1;33m(\u001b[0m\u001b[0mx\u001b[0m\u001b[1;33m)\u001b[0m \u001b[1;32mif\u001b[0m \u001b[0mxl\u001b[0m \u001b[1;33m<\u001b[0m \u001b[0mx\u001b[0m \u001b[1;33m<\u001b[0m \u001b[0mxu\u001b[0m \u001b[1;32melse\u001b[0m \u001b[1;33m-\u001b[0m\u001b[0mnp\u001b[0m\u001b[1;33m.\u001b[0m\u001b[0minf\u001b[0m \u001b[1;32mfor\u001b[0m \u001b[0mx\u001b[0m \u001b[1;32min\u001b[0m \u001b[0mxlist\u001b[0m \u001b[1;33m]\u001b[0m\u001b[1;33m)\u001b[0m\u001b[1;33m\u001b[0m\u001b[0m\n\u001b[0;32m      7\u001b[0m \u001b[1;33m\u001b[0m\u001b[0m\n",
      "\u001b[1;31mNameError\u001b[0m: name 'xlist' is not defined"
     ]
    }
   ],
   "source": [
    "ndim, nwalkers = 3, 20\n",
    "pos = [(0., 0.9*min(xlist_05), 1.1*max(xlist_05)) + 1e-3*np.random.randn(ndim) for i in range(nwalkers)]\n",
    "\n",
    "sampler_05 = emcee.EnsembleSampler(nwalkers, ndim, lnpost)\n",
    "sampler_05.run_mcmc(pos, 5000);"
   ]
  },
  {
   "cell_type": "code",
   "execution_count": null,
   "metadata": {
    "collapsed": false
   },
   "outputs": [],
   "source": [
    "samples_05 = sampler_05.chain[:, 500:, :].reshape(-1,ndim)\n",
    "p.plot(sampler_05.chain[0, :, 1])\n",
    "p.show()"
   ]
  },
  {
   "cell_type": "markdown",
   "metadata": {},
   "source": [
    "# Plot everything vs. everything"
   ]
  },
  {
   "cell_type": "code",
   "execution_count": null,
   "metadata": {
    "collapsed": false
   },
   "outputs": [],
   "source": [
    "import corner\n",
    "fig = corner.corner(samples_05, labels=[\"$\\gamma$\", \"$x_l$\", \"$x_u$\"])\n",
    "fig.show()"
   ]
  },
  {
   "cell_type": "markdown",
   "metadata": {},
   "source": [
    "# Now using the updated list of planets..."
   ]
  },
  {
   "cell_type": "code",
   "execution_count": null,
   "metadata": {
    "collapsed": false
   },
   "outputs": [],
   "source": [
    "file_15 = 'planets_2015.in'\n",
    "data_15 = create_array_from_file(file)\n",
    "data_15[25] = np.array([ 1.2 for i in range(len(data[25])) ])\n",
    "data_dict_15 = dict(zip(keys, data))\n",
    "\n",
    "a_roche_15 = data_dict_15[\"rad\"] * RJtoAU / ( 0.462 * (data_dict_15[\"Mpl\"] * MJtoMsun / data_dict_15[\"Mstar\"])**0.3333 )\n",
    "xlist_15 = data_dict_15[\"sma\"] / a_roche\n",
    "xlist_15 = xlist_15[~np.isnan(xlist_15)]\n",
    "print(\"Number of planets:\", len(xlist_15))\n",
    "print(xlist_15)"
   ]
  },
  {
   "cell_type": "code",
   "execution_count": null,
   "metadata": {
    "collapsed": false
   },
   "outputs": [],
   "source": [
    "pos = [(0., 0.9*min(xlist_15), 1.1*max(xlist_15)) + 1e-3*np.random.randn(ndim) for i in range(nwalkers)]\n",
    "\n",
    "sampler_15 = emcee.EnsembleSampler(nwalkers, ndim, lnpost)\n",
    "sampler_15.run_mcmc(pos, 5000);"
   ]
  },
  {
   "cell_type": "code",
   "execution_count": null,
   "metadata": {
    "collapsed": false
   },
   "outputs": [],
   "source": [
    "samples_15 = sampler.chain[:, 500:, :].reshape(-1,ndim)\n",
    "p.plot(sampler_15.chain[0, :, 1])\n",
    "p.show()"
   ]
  },
  {
   "cell_type": "code",
   "execution_count": null,
   "metadata": {
    "collapsed": false
   },
   "outputs": [],
   "source": [
    "fig = corner.corner(samples_15, labels=[\"$\\gamma$\", \"$x_l$\", \"$x_u$\"])\n",
    "fig.show()"
   ]
  },
  {
   "cell_type": "code",
   "execution_count": null,
   "metadata": {
    "collapsed": true
   },
   "outputs": [],
   "source": []
  },
  {
   "cell_type": "code",
   "execution_count": null,
   "metadata": {
    "collapsed": true
   },
   "outputs": [],
   "source": []
  },
  {
   "cell_type": "code",
   "execution_count": null,
   "metadata": {
    "collapsed": true
   },
   "outputs": [],
   "source": []
  },
  {
   "cell_type": "code",
   "execution_count": null,
   "metadata": {
    "collapsed": true
   },
   "outputs": [],
   "source": []
  },
  {
   "cell_type": "code",
   "execution_count": null,
   "metadata": {
    "collapsed": true
   },
   "outputs": [],
   "source": []
  },
  {
   "cell_type": "code",
   "execution_count": null,
   "metadata": {
    "collapsed": true
   },
   "outputs": [],
   "source": []
  },
  {
   "cell_type": "code",
   "execution_count": null,
   "metadata": {
    "collapsed": true
   },
   "outputs": [],
   "source": []
  },
  {
   "cell_type": "code",
   "execution_count": null,
   "metadata": {
    "collapsed": true
   },
   "outputs": [],
   "source": []
  },
  {
   "cell_type": "code",
   "execution_count": null,
   "metadata": {
    "collapsed": true
   },
   "outputs": [],
   "source": []
  },
  {
   "cell_type": "code",
   "execution_count": null,
   "metadata": {
    "collapsed": true
   },
   "outputs": [],
   "source": []
  },
  {
   "cell_type": "code",
   "execution_count": null,
   "metadata": {
    "collapsed": true
   },
   "outputs": [],
   "source": []
  },
  {
   "cell_type": "code",
   "execution_count": null,
   "metadata": {
    "collapsed": true
   },
   "outputs": [],
   "source": []
  },
  {
   "cell_type": "code",
   "execution_count": null,
   "metadata": {
    "collapsed": true
   },
   "outputs": [],
   "source": []
  },
  {
   "cell_type": "code",
   "execution_count": null,
   "metadata": {
    "collapsed": true
   },
   "outputs": [],
   "source": []
  },
  {
   "cell_type": "code",
   "execution_count": null,
   "metadata": {
    "collapsed": true
   },
   "outputs": [],
   "source": []
  },
  {
   "cell_type": "code",
   "execution_count": null,
   "metadata": {
    "collapsed": true
   },
   "outputs": [],
   "source": [
    "names = data[0]\n",
    "\n",
    "Mpl = data[1] * MJtoMsun\n",
    "Mpl_upper = data[2] * MJtoMsun\n",
    "Mpl_lower = data[3] * MJtoMsun\n",
    "Mpl_sigma = data[4] * MJtoMsun\n",
    "\n",
    "Mstar = data[5]\n",
    "Mstar_upper = data[6]\n",
    "Mstar_lower = data[7]\n",
    "Mstar_sigma = data[8]\n",
    "\n",
    "sma = data[9]\n",
    "sma_upper = data[10]\n",
    "sma_lower = data[11]\n",
    "sma_sigma = data[12]\n",
    "\n",
    "per = data[13]\n",
    "per_upper = data[14]\n",
    "per_lower = data[15]\n",
    "per_sigma = data[16]\n",
    "\n",
    "ecc = data[17]\n",
    "ecc_upper = data[18]\n",
    "ecc_lower = data[19]\n",
    "ecc_sigma = data[20]\n",
    "\n",
    "amp = data[21]\n",
    "amp_upper = data[22]\n",
    "amp_lower = data[23]\n",
    "amp_sigma = data[24]\n",
    "\n",
    "rad = np.array([ 1.2 for i in range(len(data[25])) ]) * RJtoAU\n",
    "\n",
    "if file == 'planets_2015_transit.in':\n",
    "    rad = data[25] * RJtoAU\n",
    "\n",
    "rad_upper = data[26] * RJtoAU\n",
    "rad_lower = data[27] * RJtoAU\n",
    "rad_sigma = data[28] * RJtoAU\n",
    "\n",
    "if file == 'planets_2015_transit.in':\n",
    "    obl = data[29]\n",
    "    obl_upper = data[30]\n",
    "    obl_lower = data[31]\n",
    "    obl_sigma = data[32]\n",
    "\n",
    "a_roche = rad / ( 0.462 * (Mpl/Mstar)**0.3333 )\n",
    "xlist = sma / a_roche\n",
    "xlist = xlist[~np.isnan(xlist)]\n",
    "\n",
    "#p.errorbar(xlist, obl, yerr=obl_sigma, linestyle=\"None\")\n",
    "#p.xlim(0.,3.)\n",
    "#p.xlabel(\"x [a/a_R]\")\n",
    "#p.ylabel(\"Obliquity [degrees]\")\n",
    "#p.savefig(\"x_vs_obliquity_zoom.png\")\n",
    "\n",
    "if file == 'planets_2015_transit.in':\n",
    "    p.hist([x for x in xlist if x<4.], bins=20)\n",
    "    p.xlabel(\"x [a/a_R]\")\n",
    "    p.show()"
   ]
  }
 ],
 "metadata": {
  "kernelspec": {
   "display_name": "Python 3",
   "language": "python",
   "name": "python3"
  },
  "language_info": {
   "codemirror_mode": {
    "name": "ipython",
    "version": 3
   },
   "file_extension": ".py",
   "mimetype": "text/x-python",
   "name": "python",
   "nbconvert_exporter": "python",
   "pygments_lexer": "ipython3",
   "version": "3.4.3"
  }
 },
 "nbformat": 4,
 "nbformat_minor": 0
}
